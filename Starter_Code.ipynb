{
 "cells": [
  {
   "cell_type": "code",
   "execution_count": 1,
   "metadata": {},
   "outputs": [
    {
     "name": "stderr",
     "output_type": "stream",
     "text": [
      "C:\\Users\\jfraz\\anaconda3\\lib\\site-packages\\scipy\\__init__.py:146: UserWarning: A NumPy version >=1.16.5 and <1.23.0 is required for this version of SciPy (detected version 1.23.2\n",
      "  warnings.warn(f\"A NumPy version >={np_minversion} and <{np_maxversion}\"\n"
     ]
    },
    {
     "data": {
      "text/html": [
       "<div>\n",
       "<style scoped>\n",
       "    .dataframe tbody tr th:only-of-type {\n",
       "        vertical-align: middle;\n",
       "    }\n",
       "\n",
       "    .dataframe tbody tr th {\n",
       "        vertical-align: top;\n",
       "    }\n",
       "\n",
       "    .dataframe thead th {\n",
       "        text-align: right;\n",
       "    }\n",
       "</style>\n",
       "<table border=\"1\" class=\"dataframe\">\n",
       "  <thead>\n",
       "    <tr style=\"text-align: right;\">\n",
       "      <th></th>\n",
       "      <th>EIN</th>\n",
       "      <th>NAME</th>\n",
       "      <th>APPLICATION_TYPE</th>\n",
       "      <th>AFFILIATION</th>\n",
       "      <th>CLASSIFICATION</th>\n",
       "      <th>USE_CASE</th>\n",
       "      <th>ORGANIZATION</th>\n",
       "      <th>STATUS</th>\n",
       "      <th>INCOME_AMT</th>\n",
       "      <th>SPECIAL_CONSIDERATIONS</th>\n",
       "      <th>ASK_AMT</th>\n",
       "      <th>IS_SUCCESSFUL</th>\n",
       "    </tr>\n",
       "  </thead>\n",
       "  <tbody>\n",
       "    <tr>\n",
       "      <th>0</th>\n",
       "      <td>10520599</td>\n",
       "      <td>BLUE KNIGHTS MOTORCYCLE CLUB</td>\n",
       "      <td>T10</td>\n",
       "      <td>Independent</td>\n",
       "      <td>C1000</td>\n",
       "      <td>ProductDev</td>\n",
       "      <td>Association</td>\n",
       "      <td>1</td>\n",
       "      <td>0</td>\n",
       "      <td>N</td>\n",
       "      <td>5000</td>\n",
       "      <td>1</td>\n",
       "    </tr>\n",
       "    <tr>\n",
       "      <th>1</th>\n",
       "      <td>10531628</td>\n",
       "      <td>AMERICAN CHESAPEAKE CLUB CHARITABLE TR</td>\n",
       "      <td>T3</td>\n",
       "      <td>Independent</td>\n",
       "      <td>C2000</td>\n",
       "      <td>Preservation</td>\n",
       "      <td>Co-operative</td>\n",
       "      <td>1</td>\n",
       "      <td>1-9999</td>\n",
       "      <td>N</td>\n",
       "      <td>108590</td>\n",
       "      <td>1</td>\n",
       "    </tr>\n",
       "    <tr>\n",
       "      <th>2</th>\n",
       "      <td>10547893</td>\n",
       "      <td>ST CLOUD PROFESSIONAL FIREFIGHTERS</td>\n",
       "      <td>T5</td>\n",
       "      <td>CompanySponsored</td>\n",
       "      <td>C3000</td>\n",
       "      <td>ProductDev</td>\n",
       "      <td>Association</td>\n",
       "      <td>1</td>\n",
       "      <td>0</td>\n",
       "      <td>N</td>\n",
       "      <td>5000</td>\n",
       "      <td>0</td>\n",
       "    </tr>\n",
       "    <tr>\n",
       "      <th>3</th>\n",
       "      <td>10553066</td>\n",
       "      <td>SOUTHSIDE ATHLETIC ASSOCIATION</td>\n",
       "      <td>T3</td>\n",
       "      <td>CompanySponsored</td>\n",
       "      <td>C2000</td>\n",
       "      <td>Preservation</td>\n",
       "      <td>Trust</td>\n",
       "      <td>1</td>\n",
       "      <td>10000-24999</td>\n",
       "      <td>N</td>\n",
       "      <td>6692</td>\n",
       "      <td>1</td>\n",
       "    </tr>\n",
       "    <tr>\n",
       "      <th>4</th>\n",
       "      <td>10556103</td>\n",
       "      <td>GENETIC RESEARCH INSTITUTE OF THE DESERT</td>\n",
       "      <td>T3</td>\n",
       "      <td>Independent</td>\n",
       "      <td>C1000</td>\n",
       "      <td>Heathcare</td>\n",
       "      <td>Trust</td>\n",
       "      <td>1</td>\n",
       "      <td>100000-499999</td>\n",
       "      <td>N</td>\n",
       "      <td>142590</td>\n",
       "      <td>1</td>\n",
       "    </tr>\n",
       "  </tbody>\n",
       "</table>\n",
       "</div>"
      ],
      "text/plain": [
       "        EIN                                      NAME APPLICATION_TYPE  \\\n",
       "0  10520599              BLUE KNIGHTS MOTORCYCLE CLUB              T10   \n",
       "1  10531628    AMERICAN CHESAPEAKE CLUB CHARITABLE TR               T3   \n",
       "2  10547893        ST CLOUD PROFESSIONAL FIREFIGHTERS               T5   \n",
       "3  10553066            SOUTHSIDE ATHLETIC ASSOCIATION               T3   \n",
       "4  10556103  GENETIC RESEARCH INSTITUTE OF THE DESERT               T3   \n",
       "\n",
       "        AFFILIATION CLASSIFICATION      USE_CASE  ORGANIZATION  STATUS  \\\n",
       "0       Independent          C1000    ProductDev   Association       1   \n",
       "1       Independent          C2000  Preservation  Co-operative       1   \n",
       "2  CompanySponsored          C3000    ProductDev   Association       1   \n",
       "3  CompanySponsored          C2000  Preservation         Trust       1   \n",
       "4       Independent          C1000     Heathcare         Trust       1   \n",
       "\n",
       "      INCOME_AMT SPECIAL_CONSIDERATIONS  ASK_AMT  IS_SUCCESSFUL  \n",
       "0              0                      N     5000              1  \n",
       "1         1-9999                      N   108590              1  \n",
       "2              0                      N     5000              0  \n",
       "3    10000-24999                      N     6692              1  \n",
       "4  100000-499999                      N   142590              1  "
      ]
     },
     "execution_count": 1,
     "metadata": {},
     "output_type": "execute_result"
    }
   ],
   "source": [
    "# Import our dependencies\n",
    "from sklearn.model_selection import train_test_split\n",
    "from sklearn.preprocessing import StandardScaler\n",
    "import pandas as pd\n",
    "import tensorflow as tf\n",
    "\n",
    "#  Import and read the charity_data.csv.\n",
    "import pandas as pd \n",
    "application_df = pd.read_csv(\"./Resources/charity_data.csv\")\n",
    "application_df.head()"
   ]
  },
  {
   "cell_type": "code",
   "execution_count": 2,
   "metadata": {},
   "outputs": [],
   "source": [
    "#  Import and read the charity_data.csv.\n",
    "#import pandas as pd \n",
    "#application_df = pd.read_csv(\"./Resources/charity_data.csv\")\n",
    "#application_df.head()"
   ]
  },
  {
   "cell_type": "code",
   "execution_count": 3,
   "metadata": {},
   "outputs": [
    {
     "data": {
      "text/html": [
       "<div>\n",
       "<style scoped>\n",
       "    .dataframe tbody tr th:only-of-type {\n",
       "        vertical-align: middle;\n",
       "    }\n",
       "\n",
       "    .dataframe tbody tr th {\n",
       "        vertical-align: top;\n",
       "    }\n",
       "\n",
       "    .dataframe thead th {\n",
       "        text-align: right;\n",
       "    }\n",
       "</style>\n",
       "<table border=\"1\" class=\"dataframe\">\n",
       "  <thead>\n",
       "    <tr style=\"text-align: right;\">\n",
       "      <th></th>\n",
       "      <th>APPLICATION_TYPE</th>\n",
       "      <th>AFFILIATION</th>\n",
       "      <th>CLASSIFICATION</th>\n",
       "      <th>USE_CASE</th>\n",
       "      <th>ORGANIZATION</th>\n",
       "      <th>STATUS</th>\n",
       "      <th>INCOME_AMT</th>\n",
       "      <th>SPECIAL_CONSIDERATIONS</th>\n",
       "      <th>ASK_AMT</th>\n",
       "      <th>IS_SUCCESSFUL</th>\n",
       "    </tr>\n",
       "  </thead>\n",
       "  <tbody>\n",
       "    <tr>\n",
       "      <th>0</th>\n",
       "      <td>T10</td>\n",
       "      <td>Independent</td>\n",
       "      <td>C1000</td>\n",
       "      <td>ProductDev</td>\n",
       "      <td>Association</td>\n",
       "      <td>1</td>\n",
       "      <td>0</td>\n",
       "      <td>N</td>\n",
       "      <td>5000</td>\n",
       "      <td>1</td>\n",
       "    </tr>\n",
       "    <tr>\n",
       "      <th>1</th>\n",
       "      <td>T3</td>\n",
       "      <td>Independent</td>\n",
       "      <td>C2000</td>\n",
       "      <td>Preservation</td>\n",
       "      <td>Co-operative</td>\n",
       "      <td>1</td>\n",
       "      <td>1-9999</td>\n",
       "      <td>N</td>\n",
       "      <td>108590</td>\n",
       "      <td>1</td>\n",
       "    </tr>\n",
       "    <tr>\n",
       "      <th>2</th>\n",
       "      <td>T5</td>\n",
       "      <td>CompanySponsored</td>\n",
       "      <td>C3000</td>\n",
       "      <td>ProductDev</td>\n",
       "      <td>Association</td>\n",
       "      <td>1</td>\n",
       "      <td>0</td>\n",
       "      <td>N</td>\n",
       "      <td>5000</td>\n",
       "      <td>0</td>\n",
       "    </tr>\n",
       "    <tr>\n",
       "      <th>3</th>\n",
       "      <td>T3</td>\n",
       "      <td>CompanySponsored</td>\n",
       "      <td>C2000</td>\n",
       "      <td>Preservation</td>\n",
       "      <td>Trust</td>\n",
       "      <td>1</td>\n",
       "      <td>10000-24999</td>\n",
       "      <td>N</td>\n",
       "      <td>6692</td>\n",
       "      <td>1</td>\n",
       "    </tr>\n",
       "    <tr>\n",
       "      <th>4</th>\n",
       "      <td>T3</td>\n",
       "      <td>Independent</td>\n",
       "      <td>C1000</td>\n",
       "      <td>Heathcare</td>\n",
       "      <td>Trust</td>\n",
       "      <td>1</td>\n",
       "      <td>100000-499999</td>\n",
       "      <td>N</td>\n",
       "      <td>142590</td>\n",
       "      <td>1</td>\n",
       "    </tr>\n",
       "  </tbody>\n",
       "</table>\n",
       "</div>"
      ],
      "text/plain": [
       "  APPLICATION_TYPE       AFFILIATION CLASSIFICATION      USE_CASE  \\\n",
       "0              T10       Independent          C1000    ProductDev   \n",
       "1               T3       Independent          C2000  Preservation   \n",
       "2               T5  CompanySponsored          C3000    ProductDev   \n",
       "3               T3  CompanySponsored          C2000  Preservation   \n",
       "4               T3       Independent          C1000     Heathcare   \n",
       "\n",
       "   ORGANIZATION  STATUS     INCOME_AMT SPECIAL_CONSIDERATIONS  ASK_AMT  \\\n",
       "0   Association       1              0                      N     5000   \n",
       "1  Co-operative       1         1-9999                      N   108590   \n",
       "2   Association       1              0                      N     5000   \n",
       "3         Trust       1    10000-24999                      N     6692   \n",
       "4         Trust       1  100000-499999                      N   142590   \n",
       "\n",
       "   IS_SUCCESSFUL  \n",
       "0              1  \n",
       "1              1  \n",
       "2              0  \n",
       "3              1  \n",
       "4              1  "
      ]
     },
     "execution_count": 3,
     "metadata": {},
     "output_type": "execute_result"
    }
   ],
   "source": [
    "# Drop the non-beneficial ID columns, 'EIN' and 'NAME'.\n",
    "application_df = application_df.drop(columns = ['EIN', 'NAME'])\n",
    "application_df.head()"
   ]
  },
  {
   "cell_type": "code",
   "execution_count": 4,
   "metadata": {},
   "outputs": [
    {
     "data": {
      "text/plain": [
       "APPLICATION_TYPE            17\n",
       "AFFILIATION                  6\n",
       "CLASSIFICATION              71\n",
       "USE_CASE                     5\n",
       "ORGANIZATION                 4\n",
       "STATUS                       2\n",
       "INCOME_AMT                   9\n",
       "SPECIAL_CONSIDERATIONS       2\n",
       "ASK_AMT                   8747\n",
       "IS_SUCCESSFUL                2\n",
       "dtype: int64"
      ]
     },
     "execution_count": 4,
     "metadata": {},
     "output_type": "execute_result"
    }
   ],
   "source": [
    "# Determine the number of unique values in each column.\n",
    "application_df.nunique()"
   ]
  },
  {
   "cell_type": "code",
   "execution_count": 5,
   "metadata": {},
   "outputs": [
    {
     "data": {
      "text/plain": [
       "T3     27037\n",
       "T4      1542\n",
       "T6      1216\n",
       "T5      1173\n",
       "T19     1065\n",
       "T8       737\n",
       "T7       725\n",
       "T10      528\n",
       "T9       156\n",
       "T13       66\n",
       "T12       27\n",
       "T2        16\n",
       "T25        3\n",
       "T14        3\n",
       "T29        2\n",
       "T15        2\n",
       "T17        1\n",
       "Name: APPLICATION_TYPE, dtype: int64"
      ]
     },
     "execution_count": 5,
     "metadata": {},
     "output_type": "execute_result"
    }
   ],
   "source": [
    "# Look at APPLICATION_TYPE value counts for binning\n",
    "appcounts = application_df['APPLICATION_TYPE'].value_counts()\n",
    "appcounts"
   ]
  },
  {
   "cell_type": "code",
   "execution_count": 6,
   "metadata": {},
   "outputs": [
    {
     "data": {
      "text/plain": [
       "T3       27037\n",
       "T4        1542\n",
       "T6        1216\n",
       "T5        1173\n",
       "T19       1065\n",
       "T8         737\n",
       "T7         725\n",
       "T10        528\n",
       "Other      276\n",
       "Name: APPLICATION_TYPE, dtype: int64"
      ]
     },
     "execution_count": 6,
     "metadata": {},
     "output_type": "execute_result"
    }
   ],
   "source": [
    "# Choose a cutoff value and create a list of application types to be replaced\n",
    "# use the variable name `application_types_to_replace`\n",
    "application_types_to_replace = list(appcounts[appcounts<500].index)\n",
    "application_types_to_replace\n",
    "\n",
    "# Replace in dataframe\n",
    "for app in application_types_to_replace:\n",
    "    application_df['APPLICATION_TYPE'] = application_df['APPLICATION_TYPE'].replace(app,\"Other\")\n",
    "\n",
    "# Check to make sure binning was successful\n",
    "application_df['APPLICATION_TYPE'].value_counts()"
   ]
  },
  {
   "cell_type": "code",
   "execution_count": 7,
   "metadata": {},
   "outputs": [
    {
     "data": {
      "text/plain": [
       "C1000    17326\n",
       "C2000     6074\n",
       "C1200     4837\n",
       "C3000     1918\n",
       "C2100     1883\n",
       "         ...  \n",
       "C4120        1\n",
       "C8210        1\n",
       "C2561        1\n",
       "C4500        1\n",
       "C2150        1\n",
       "Name: CLASSIFICATION, Length: 71, dtype: int64"
      ]
     },
     "execution_count": 7,
     "metadata": {},
     "output_type": "execute_result"
    }
   ],
   "source": [
    "# Look at CLASSIFICATION value counts for binning\n",
    "appbinning = application_df['CLASSIFICATION'].value_counts()\n",
    "appbinning"
   ]
  },
  {
   "cell_type": "code",
   "execution_count": 8,
   "metadata": {},
   "outputs": [
    {
     "data": {
      "text/plain": [
       "C1000    17326\n",
       "C2000     6074\n",
       "C1200     4837\n",
       "C3000     1918\n",
       "C2100     1883\n",
       "C7000      777\n",
       "C1700      287\n",
       "C4000      194\n",
       "C5000      116\n",
       "C1270      114\n",
       "C2700      104\n",
       "C2800       95\n",
       "C7100       75\n",
       "C1300       58\n",
       "C1280       50\n",
       "C1230       36\n",
       "C1400       34\n",
       "C7200       32\n",
       "C2300       32\n",
       "C1240       30\n",
       "C8000       20\n",
       "C7120       18\n",
       "C1500       16\n",
       "C1800       15\n",
       "C6000       15\n",
       "C1250       14\n",
       "C8200       11\n",
       "C1238       10\n",
       "C1278       10\n",
       "C1235        9\n",
       "C1237        9\n",
       "C7210        7\n",
       "C2400        6\n",
       "C1720        6\n",
       "C4100        6\n",
       "C1257        5\n",
       "C1600        5\n",
       "C1260        3\n",
       "C2710        3\n",
       "C0           3\n",
       "C3200        2\n",
       "C1234        2\n",
       "C1246        2\n",
       "C1267        2\n",
       "C1256        2\n",
       "Name: CLASSIFICATION, dtype: int64"
      ]
     },
     "execution_count": 8,
     "metadata": {},
     "output_type": "execute_result"
    }
   ],
   "source": [
    "# You may find it helpful to look at CLASSIFICATION value counts >1\n",
    "application_df['CLASSIFICATION'].value_counts().loc[lambda x :x>1]"
   ]
  },
  {
   "cell_type": "code",
   "execution_count": 9,
   "metadata": {},
   "outputs": [
    {
     "data": {
      "text/plain": [
       "C1000    17326\n",
       "C2000     6074\n",
       "C1200     4837\n",
       "Other     2261\n",
       "C3000     1918\n",
       "C2100     1883\n",
       "Name: CLASSIFICATION, dtype: int64"
      ]
     },
     "execution_count": 9,
     "metadata": {},
     "output_type": "execute_result"
    }
   ],
   "source": [
    "# Choose a cutoff value and create a list of classifications to be replaced\n",
    "# use the variable name `classifications_to_replace`\n",
    "classifications_to_replace = ['C2700', 'C7000', 'C7200','C1700', 'C4000', 'C7100', 'C2800', 'C6000', 'C1238','C5000', 'C7120', 'C1800', 'C4100', 'C1400','C1270',\n",
    "'C1300','C1280','C1230','C2300','C1240','C8000','C1500','C1250','C8200','C1278','C1235','C1237','C7210','C1720','C2400','C1257','C1600','C1260','C2710','C0','C1267','C3200','C1234','C1246','C1256','C2190','C4200','C1248','C5200','C1370','C2600','C6100','C1820','C1900','C1236','C1245','C2570','C1580','C3700','C2500','C1570','C1283','C2380','C1732','C1728','C2170','C4120','C8210','C4500','C2561', \n",
    "'C2150']\n",
    "\n",
    "# Replace in dataframe\n",
    "for cls in classifications_to_replace:\n",
    "    application_df['CLASSIFICATION'] = application_df['CLASSIFICATION'].replace(cls,\"Other\")\n",
    "    \n",
    "# Check to make sure binning was successful\n",
    "application_df['CLASSIFICATION'].value_counts()"
   ]
  },
  {
   "cell_type": "code",
   "execution_count": 10,
   "metadata": {},
   "outputs": [],
   "source": [
    "# Convert categorical data to numeric with `pd.get_dummies`\n",
    "app_dummies = pd.get_dummies(application_df)"
   ]
  },
  {
   "cell_type": "code",
   "execution_count": 11,
   "metadata": {},
   "outputs": [],
   "source": [
    "# Split our preprocessed data into our features and target arrays\n",
    "y = app_dummies['IS_SUCCESSFUL'].values\n",
    "X = app_dummies.drop(['IS_SUCCESSFUL'],axis=1)"
   ]
  },
  {
   "cell_type": "code",
   "execution_count": 12,
   "metadata": {},
   "outputs": [],
   "source": [
    "# Split the preprocessed data into a training and testing dataset\n",
    "X_train, X_test, y_train, y_test = train_test_split(X, y, random_state=42)"
   ]
  },
  {
   "cell_type": "code",
   "execution_count": 13,
   "metadata": {},
   "outputs": [],
   "source": [
    "# Create a StandardScaler instances\n",
    "scaler = StandardScaler()\n",
    "\n",
    "# Fit the StandardScaler\n",
    "X_scaler = scaler.fit(X_train)\n",
    "\n",
    "# Scale the data\n",
    "X_train_scaled = X_scaler.transform(X_train)\n",
    "X_test_scaled = X_scaler.transform(X_test)"
   ]
  },
  {
   "cell_type": "markdown",
   "metadata": {},
   "source": [
    "## Compile, Train and Evaluate the Model"
   ]
  },
  {
   "cell_type": "code",
   "execution_count": 14,
   "metadata": {},
   "outputs": [
    {
     "name": "stdout",
     "output_type": "stream",
     "text": [
      "Model: \"sequential\"\n",
      "_________________________________________________________________\n",
      " Layer (type)                Output Shape              Param #   \n",
      "=================================================================\n",
      " dense (Dense)               (None, 80)                3520      \n",
      "                                                                 \n",
      " dense_1 (Dense)             (None, 30)                2430      \n",
      "                                                                 \n",
      " dense_2 (Dense)             (None, 1)                 31        \n",
      "                                                                 \n",
      "=================================================================\n",
      "Total params: 5,981\n",
      "Trainable params: 5,981\n",
      "Non-trainable params: 0\n",
      "_________________________________________________________________\n"
     ]
    }
   ],
   "source": [
    "# Define the model - deep neural net, i.e., the number of input features and hidden nodes for each layer.\n",
    "num_features = len(X_train_scaled[0])\n",
    "hidden_nodes_1 = 80\n",
    "hidden_nodes_2 = 30\n",
    "\n",
    "\n",
    "nn = tf.keras.models.Sequential()\n",
    "\n",
    "# First hidden layer\n",
    "nn.add(tf.keras.layers.Dense(units=hidden_nodes_1, input_dim=num_features, activation='relu'))\n",
    "\n",
    "# Second hidden layer\n",
    "nn.add(tf.keras.layers.Dense(units=hidden_nodes_2, activation='relu'))\n",
    "\n",
    "# Output layer\n",
    "nn.add(tf.keras.layers.Dense(units=1, activation='sigmoid'))\n",
    "# Check the structure of the model\n",
    "nn.summary()"
   ]
  },
  {
   "cell_type": "code",
   "execution_count": 15,
   "metadata": {},
   "outputs": [],
   "source": [
    "import os\n",
    "from tensorflow.keras.callbacks import ModelCheckpoint\n",
    "\n",
    "#checkpoint path and filename \n",
    "os.makedirs('checkpoints/',exist_ok= True)\n",
    "checkpoint_path = 'checkpoints/weights.{epoch:05d}.hdf5'"
   ]
  },
  {
   "cell_type": "code",
   "execution_count": 16,
   "metadata": {},
   "outputs": [],
   "source": [
    "# Compile the model\n",
    "nn.compile(loss='binary_crossentropy', optimizer='adam', metrics=['accuracy'])"
   ]
  },
  {
   "cell_type": "code",
   "execution_count": 17,
   "metadata": {},
   "outputs": [
    {
     "name": "stdout",
     "output_type": "stream",
     "text": [
      "WARNING:tensorflow:`period` argument is deprecated. Please use `save_freq` to specify the frequency in number of batches seen.\n"
     ]
    }
   ],
   "source": [
    "cpcallback= ModelCheckpoint(filepath =checkpoint_path,verbose=5,save_weights_only=True,period = 5)"
   ]
  },
  {
   "cell_type": "code",
   "execution_count": 18,
   "metadata": {},
   "outputs": [
    {
     "name": "stdout",
     "output_type": "stream",
     "text": [
      "Epoch 1/100\n",
      "804/804 [==============================] - 3s 2ms/step - loss: 0.5709 - accuracy: 0.7202\n",
      "Epoch 2/100\n",
      "804/804 [==============================] - 1s 2ms/step - loss: 0.5547 - accuracy: 0.7298\n",
      "Epoch 3/100\n",
      "804/804 [==============================] - 1s 1ms/step - loss: 0.5529 - accuracy: 0.7292\n",
      "Epoch 4/100\n",
      "804/804 [==============================] - 1s 1ms/step - loss: 0.5508 - accuracy: 0.7301\n",
      "Epoch 5/100\n",
      "798/804 [============================>.] - ETA: 0s - loss: 0.5492 - accuracy: 0.7310\n",
      "Epoch 5: saving model to checkpoints\\weights.00005.hdf5\n",
      "804/804 [==============================] - 1s 2ms/step - loss: 0.5493 - accuracy: 0.7310\n",
      "Epoch 6/100\n",
      "804/804 [==============================] - 1s 1ms/step - loss: 0.5484 - accuracy: 0.7313\n",
      "Epoch 7/100\n",
      "804/804 [==============================] - 1s 1ms/step - loss: 0.5481 - accuracy: 0.7325\n",
      "Epoch 8/100\n",
      "804/804 [==============================] - 1s 1ms/step - loss: 0.5474 - accuracy: 0.7324\n",
      "Epoch 9/100\n",
      "804/804 [==============================] - 1s 1ms/step - loss: 0.5468 - accuracy: 0.7322\n",
      "Epoch 10/100\n",
      "777/804 [===========================>..] - ETA: 0s - loss: 0.5471 - accuracy: 0.7308\n",
      "Epoch 10: saving model to checkpoints\\weights.00010.hdf5\n",
      "804/804 [==============================] - 1s 2ms/step - loss: 0.5462 - accuracy: 0.7315\n",
      "Epoch 11/100\n",
      "804/804 [==============================] - 1s 1ms/step - loss: 0.5452 - accuracy: 0.7335\n",
      "Epoch 12/100\n",
      "804/804 [==============================] - 1s 1ms/step - loss: 0.5452 - accuracy: 0.7331\n",
      "Epoch 13/100\n",
      "804/804 [==============================] - 2s 2ms/step - loss: 0.5445 - accuracy: 0.7332\n",
      "Epoch 14/100\n",
      "804/804 [==============================] - 1s 2ms/step - loss: 0.5442 - accuracy: 0.7343\n",
      "Epoch 15/100\n",
      "785/804 [============================>.] - ETA: 0s - loss: 0.5438 - accuracy: 0.7326\n",
      "Epoch 15: saving model to checkpoints\\weights.00015.hdf5\n",
      "804/804 [==============================] - 2s 2ms/step - loss: 0.5440 - accuracy: 0.7329\n",
      "Epoch 16/100\n",
      "804/804 [==============================] - 3s 4ms/step - loss: 0.5436 - accuracy: 0.7345\n",
      "Epoch 17/100\n",
      "804/804 [==============================] - 3s 4ms/step - loss: 0.5430 - accuracy: 0.7350\n",
      "Epoch 18/100\n",
      "804/804 [==============================] - 3s 4ms/step - loss: 0.5429 - accuracy: 0.7359\n",
      "Epoch 19/100\n",
      "804/804 [==============================] - 2s 3ms/step - loss: 0.5429 - accuracy: 0.7355\n",
      "Epoch 20/100\n",
      "791/804 [============================>.] - ETA: 0s - loss: 0.5428 - accuracy: 0.7342\n",
      "Epoch 20: saving model to checkpoints\\weights.00020.hdf5\n",
      "804/804 [==============================] - 2s 2ms/step - loss: 0.5428 - accuracy: 0.7345\n",
      "Epoch 21/100\n",
      "804/804 [==============================] - 2s 3ms/step - loss: 0.5421 - accuracy: 0.7354\n",
      "Epoch 22/100\n",
      "804/804 [==============================] - 2s 2ms/step - loss: 0.5419 - accuracy: 0.7349\n",
      "Epoch 23/100\n",
      "804/804 [==============================] - 1s 2ms/step - loss: 0.5414 - accuracy: 0.7360\n",
      "Epoch 24/100\n",
      "804/804 [==============================] - 1s 1ms/step - loss: 0.5418 - accuracy: 0.7352\n",
      "Epoch 25/100\n",
      "770/804 [===========================>..] - ETA: 0s - loss: 0.5406 - accuracy: 0.7367\n",
      "Epoch 25: saving model to checkpoints\\weights.00025.hdf5\n",
      "804/804 [==============================] - 1s 1ms/step - loss: 0.5411 - accuracy: 0.7369\n",
      "Epoch 26/100\n",
      "804/804 [==============================] - 1s 1ms/step - loss: 0.5414 - accuracy: 0.7368\n",
      "Epoch 27/100\n",
      "804/804 [==============================] - 1s 1ms/step - loss: 0.5412 - accuracy: 0.7364\n",
      "Epoch 28/100\n",
      "804/804 [==============================] - 2s 2ms/step - loss: 0.5406 - accuracy: 0.7369\n",
      "Epoch 29/100\n",
      "804/804 [==============================] - 1s 1ms/step - loss: 0.5405 - accuracy: 0.7374\n",
      "Epoch 30/100\n",
      "797/804 [============================>.] - ETA: 0s - loss: 0.5404 - accuracy: 0.7363\n",
      "Epoch 30: saving model to checkpoints\\weights.00030.hdf5\n",
      "804/804 [==============================] - 2s 3ms/step - loss: 0.5400 - accuracy: 0.7367\n",
      "Epoch 31/100\n",
      "804/804 [==============================] - 2s 2ms/step - loss: 0.5405 - accuracy: 0.7369\n",
      "Epoch 32/100\n",
      "804/804 [==============================] - 3s 4ms/step - loss: 0.5401 - accuracy: 0.7365\n",
      "Epoch 33/100\n",
      "804/804 [==============================] - 3s 4ms/step - loss: 0.5402 - accuracy: 0.7371\n",
      "Epoch 34/100\n",
      "804/804 [==============================] - 3s 4ms/step - loss: 0.5395 - accuracy: 0.7380\n",
      "Epoch 35/100\n",
      "786/804 [============================>.] - ETA: 0s - loss: 0.5399 - accuracy: 0.7380\n",
      "Epoch 35: saving model to checkpoints\\weights.00035.hdf5\n",
      "804/804 [==============================] - 2s 3ms/step - loss: 0.5395 - accuracy: 0.7378\n",
      "Epoch 36/100\n",
      "804/804 [==============================] - 2s 2ms/step - loss: 0.5391 - accuracy: 0.7361\n",
      "Epoch 37/100\n",
      "804/804 [==============================] - 1s 1ms/step - loss: 0.5389 - accuracy: 0.7390\n",
      "Epoch 38/100\n",
      "804/804 [==============================] - 1s 1ms/step - loss: 0.5391 - accuracy: 0.7370\n",
      "Epoch 39/100\n",
      "804/804 [==============================] - 1s 1ms/step - loss: 0.5389 - accuracy: 0.7376\n",
      "Epoch 40/100\n",
      "778/804 [============================>.] - ETA: 0s - loss: 0.5381 - accuracy: 0.7381\n",
      "Epoch 40: saving model to checkpoints\\weights.00040.hdf5\n",
      "804/804 [==============================] - 1s 1ms/step - loss: 0.5388 - accuracy: 0.7375\n",
      "Epoch 41/100\n",
      "804/804 [==============================] - 1s 1ms/step - loss: 0.5385 - accuracy: 0.7378\n",
      "Epoch 42/100\n",
      "804/804 [==============================] - 1s 1ms/step - loss: 0.5385 - accuracy: 0.7378\n",
      "Epoch 43/100\n",
      "804/804 [==============================] - 1s 1ms/step - loss: 0.5384 - accuracy: 0.7375\n",
      "Epoch 44/100\n",
      "804/804 [==============================] - 1s 2ms/step - loss: 0.5379 - accuracy: 0.7379\n",
      "Epoch 45/100\n",
      "768/804 [===========================>..] - ETA: 0s - loss: 0.5379 - accuracy: 0.7382\n",
      "Epoch 45: saving model to checkpoints\\weights.00045.hdf5\n",
      "804/804 [==============================] - 1s 1ms/step - loss: 0.5379 - accuracy: 0.7381\n",
      "Epoch 46/100\n",
      "804/804 [==============================] - 1s 1ms/step - loss: 0.5377 - accuracy: 0.7387\n",
      "Epoch 47/100\n",
      "804/804 [==============================] - 1s 1ms/step - loss: 0.5382 - accuracy: 0.7389\n",
      "Epoch 48/100\n",
      "804/804 [==============================] - 1s 1ms/step - loss: 0.5374 - accuracy: 0.7392\n",
      "Epoch 49/100\n",
      "804/804 [==============================] - 2s 3ms/step - loss: 0.5375 - accuracy: 0.7384\n",
      "Epoch 50/100\n",
      "785/804 [============================>.] - ETA: 0s - loss: 0.5373 - accuracy: 0.7375\n",
      "Epoch 50: saving model to checkpoints\\weights.00050.hdf5\n",
      "804/804 [==============================] - 2s 2ms/step - loss: 0.5373 - accuracy: 0.7374\n",
      "Epoch 51/100\n",
      "804/804 [==============================] - 3s 4ms/step - loss: 0.5373 - accuracy: 0.7389\n",
      "Epoch 52/100\n",
      "804/804 [==============================] - 3s 4ms/step - loss: 0.5371 - accuracy: 0.7382\n",
      "Epoch 53/100\n",
      "804/804 [==============================] - 3s 3ms/step - loss: 0.5372 - accuracy: 0.7378\n",
      "Epoch 54/100\n",
      "804/804 [==============================] - 4s 4ms/step - loss: 0.5372 - accuracy: 0.7378\n",
      "Epoch 55/100\n",
      "804/804 [==============================] - ETA: 0s - loss: 0.5367 - accuracy: 0.7387\n",
      "Epoch 55: saving model to checkpoints\\weights.00055.hdf5\n",
      "804/804 [==============================] - 3s 4ms/step - loss: 0.5367 - accuracy: 0.7387\n",
      "Epoch 56/100\n",
      "804/804 [==============================] - 2s 2ms/step - loss: 0.5367 - accuracy: 0.7383\n",
      "Epoch 57/100\n",
      "804/804 [==============================] - 1s 1ms/step - loss: 0.5366 - accuracy: 0.7383\n",
      "Epoch 58/100\n",
      "804/804 [==============================] - 1s 1ms/step - loss: 0.5364 - accuracy: 0.7391\n",
      "Epoch 59/100\n",
      "804/804 [==============================] - 1s 1ms/step - loss: 0.5366 - accuracy: 0.7383\n",
      "Epoch 60/100\n",
      "799/804 [============================>.] - ETA: 0s - loss: 0.5363 - accuracy: 0.7388\n",
      "Epoch 60: saving model to checkpoints\\weights.00060.hdf5\n",
      "804/804 [==============================] - 1s 1ms/step - loss: 0.5362 - accuracy: 0.7389\n",
      "Epoch 61/100\n",
      "804/804 [==============================] - 1s 1ms/step - loss: 0.5363 - accuracy: 0.7383\n",
      "Epoch 62/100\n",
      "804/804 [==============================] - 1s 1ms/step - loss: 0.5362 - accuracy: 0.7391\n",
      "Epoch 63/100\n",
      "804/804 [==============================] - 1s 1ms/step - loss: 0.5363 - accuracy: 0.7384\n",
      "Epoch 64/100\n"
     ]
    },
    {
     "name": "stdout",
     "output_type": "stream",
     "text": [
      "804/804 [==============================] - 1s 1ms/step - loss: 0.5362 - accuracy: 0.7394\n",
      "Epoch 65/100\n",
      "800/804 [============================>.] - ETA: 0s - loss: 0.5365 - accuracy: 0.7396\n",
      "Epoch 65: saving model to checkpoints\\weights.00065.hdf5\n",
      "804/804 [==============================] - 1s 1ms/step - loss: 0.5362 - accuracy: 0.7399\n",
      "Epoch 66/100\n",
      "804/804 [==============================] - 2s 3ms/step - loss: 0.5358 - accuracy: 0.7399\n",
      "Epoch 67/100\n",
      "804/804 [==============================] - 3s 3ms/step - loss: 0.5360 - accuracy: 0.7393\n",
      "Epoch 68/100\n",
      "804/804 [==============================] - 3s 4ms/step - loss: 0.5361 - accuracy: 0.7388\n",
      "Epoch 69/100\n",
      "804/804 [==============================] - 4s 5ms/step - loss: 0.5363 - accuracy: 0.7397\n",
      "Epoch 70/100\n",
      "792/804 [============================>.] - ETA: 0s - loss: 0.5356 - accuracy: 0.7399\n",
      "Epoch 70: saving model to checkpoints\\weights.00070.hdf5\n",
      "804/804 [==============================] - 3s 4ms/step - loss: 0.5359 - accuracy: 0.7395\n",
      "Epoch 71/100\n",
      "804/804 [==============================] - 3s 4ms/step - loss: 0.5358 - accuracy: 0.7387\n",
      "Epoch 72/100\n",
      "804/804 [==============================] - 2s 2ms/step - loss: 0.5354 - accuracy: 0.7404\n",
      "Epoch 73/100\n",
      "804/804 [==============================] - 2s 2ms/step - loss: 0.5357 - accuracy: 0.7392\n",
      "Epoch 74/100\n",
      "804/804 [==============================] - 2s 2ms/step - loss: 0.5356 - accuracy: 0.7393\n",
      "Epoch 75/100\n",
      "798/804 [============================>.] - ETA: 0s - loss: 0.5349 - accuracy: 0.7390\n",
      "Epoch 75: saving model to checkpoints\\weights.00075.hdf5\n",
      "804/804 [==============================] - 1s 1ms/step - loss: 0.5351 - accuracy: 0.7391\n",
      "Epoch 76/100\n",
      "804/804 [==============================] - 1s 1ms/step - loss: 0.5357 - accuracy: 0.7397\n",
      "Epoch 77/100\n",
      "804/804 [==============================] - 1s 1ms/step - loss: 0.5355 - accuracy: 0.7406\n",
      "Epoch 78/100\n",
      "804/804 [==============================] - 1s 1ms/step - loss: 0.5352 - accuracy: 0.7398\n",
      "Epoch 79/100\n",
      "804/804 [==============================] - 1s 1ms/step - loss: 0.5353 - accuracy: 0.7403\n",
      "Epoch 80/100\n",
      "763/804 [===========================>..] - ETA: 0s - loss: 0.5344 - accuracy: 0.7403\n",
      "Epoch 80: saving model to checkpoints\\weights.00080.hdf5\n",
      "804/804 [==============================] - 1s 1ms/step - loss: 0.5354 - accuracy: 0.7397\n",
      "Epoch 81/100\n",
      "804/804 [==============================] - 1s 1ms/step - loss: 0.5352 - accuracy: 0.7400\n",
      "Epoch 82/100\n",
      "804/804 [==============================] - 1s 1ms/step - loss: 0.5349 - accuracy: 0.7402\n",
      "Epoch 83/100\n",
      "804/804 [==============================] - 2s 2ms/step - loss: 0.5351 - accuracy: 0.7393\n",
      "Epoch 84/100\n",
      "804/804 [==============================] - 2s 3ms/step - loss: 0.5346 - accuracy: 0.7399\n",
      "Epoch 85/100\n",
      "797/804 [============================>.] - ETA: 0s - loss: 0.5350 - accuracy: 0.7389\n",
      "Epoch 85: saving model to checkpoints\\weights.00085.hdf5\n",
      "804/804 [==============================] - 3s 4ms/step - loss: 0.5346 - accuracy: 0.7392\n",
      "Epoch 86/100\n",
      "804/804 [==============================] - 3s 4ms/step - loss: 0.5349 - accuracy: 0.7406\n",
      "Epoch 87/100\n",
      "804/804 [==============================] - 3s 3ms/step - loss: 0.5344 - accuracy: 0.7401\n",
      "Epoch 88/100\n",
      "804/804 [==============================] - 3s 4ms/step - loss: 0.5352 - accuracy: 0.7395\n",
      "Epoch 89/100\n",
      "804/804 [==============================] - 2s 2ms/step - loss: 0.5347 - accuracy: 0.7402\n",
      "Epoch 90/100\n",
      "774/804 [===========================>..] - ETA: 0s - loss: 0.5334 - accuracy: 0.7417\n",
      "Epoch 90: saving model to checkpoints\\weights.00090.hdf5\n",
      "804/804 [==============================] - 1s 2ms/step - loss: 0.5344 - accuracy: 0.7408\n",
      "Epoch 91/100\n",
      "804/804 [==============================] - 1s 1ms/step - loss: 0.5345 - accuracy: 0.7395\n",
      "Epoch 92/100\n",
      "804/804 [==============================] - 1s 1ms/step - loss: 0.5347 - accuracy: 0.7394\n",
      "Epoch 93/100\n",
      "804/804 [==============================] - 1s 1ms/step - loss: 0.5341 - accuracy: 0.7395\n",
      "Epoch 94/100\n",
      "804/804 [==============================] - 1s 1ms/step - loss: 0.5345 - accuracy: 0.7404\n",
      "Epoch 95/100\n",
      "785/804 [============================>.] - ETA: 0s - loss: 0.5338 - accuracy: 0.7406\n",
      "Epoch 95: saving model to checkpoints\\weights.00095.hdf5\n",
      "804/804 [==============================] - 1s 1ms/step - loss: 0.5347 - accuracy: 0.7397\n",
      "Epoch 96/100\n",
      "804/804 [==============================] - 1s 1ms/step - loss: 0.5345 - accuracy: 0.7402\n",
      "Epoch 97/100\n",
      "804/804 [==============================] - 1s 1ms/step - loss: 0.5341 - accuracy: 0.7393\n",
      "Epoch 98/100\n",
      "804/804 [==============================] - 1s 1ms/step - loss: 0.5341 - accuracy: 0.7404\n",
      "Epoch 99/100\n",
      "804/804 [==============================] - 1s 1ms/step - loss: 0.5343 - accuracy: 0.7397\n",
      "Epoch 100/100\n",
      "784/804 [============================>.] - ETA: 0s - loss: 0.5340 - accuracy: 0.7404\n",
      "Epoch 100: saving model to checkpoints\\weights.00100.hdf5\n",
      "804/804 [==============================] - 1s 1ms/step - loss: 0.5344 - accuracy: 0.7402\n"
     ]
    }
   ],
   "source": [
    "# Train the model\n",
    "fit_model = nn.fit(X_train_scaled,y_train,epochs=100,callbacks=[cpcallback])"
   ]
  },
  {
   "cell_type": "code",
   "execution_count": 19,
   "metadata": {},
   "outputs": [
    {
     "name": "stdout",
     "output_type": "stream",
     "text": [
      "268/268 - 0s - loss: 0.5612 - accuracy: 0.7301 - 390ms/epoch - 1ms/step\n",
      "Loss: 0.5611631274223328, Accuracy: 0.7301457524299622\n"
     ]
    }
   ],
   "source": [
    "# Evaluate the model using the test data\n",
    "model_loss, model_accuracy = nn.evaluate(X_test_scaled,y_test,verbose=2)\n",
    "print(f\"Loss: {model_loss}, Accuracy: {model_accuracy}\")"
   ]
  },
  {
   "cell_type": "code",
   "execution_count": 20,
   "metadata": {},
   "outputs": [
    {
     "data": {
      "text/plain": [
       "<AxesSubplot:>"
      ]
     },
     "execution_count": 20,
     "metadata": {},
     "output_type": "execute_result"
    },
    {
     "data": {
      "image/png": "[encoded data removed]",
      "text/plain": [
       "<Figure size 432x288 with 1 Axes>"
      ]
     },
     "metadata": {
      "needs_background": "light"
     },
     "output_type": "display_data"
    }
   ],
   "source": [
    "# Create a DataFrame containing training history\n",
    "history_df = pd.DataFrame(fit_model.history, index=range(1,len(fit_model.history[\"loss\"])+1))\n",
    "\n",
    "# Plot the accuracy\n",
    "history_df.plot(y=\"accuracy\")"
   ]
  },
  {
   "cell_type": "code",
   "execution_count": 21,
   "metadata": {},
   "outputs": [],
   "source": [
    "# Export our model to HDF5 file\n",
    "nn.save('./Resources/AlphabetSoupCharity.h5')"
   ]
  }
 ],
 "metadata": {
  "kernelspec": {
   "display_name": "Python 3 (ipykernel)",
   "language": "python",
   "name": "python3"
  },
  "language_info": {
   "codemirror_mode": {
    "name": "ipython",
    "version": 3
   },
   "file_extension": ".py",
   "mimetype": "text/x-python",
   "name": "python",
   "nbconvert_exporter": "python",
   "pygments_lexer": "ipython3",
   "version": "3.9.12"
  }
 },
 "nbformat": 4,
 "nbformat_minor": 4
}
