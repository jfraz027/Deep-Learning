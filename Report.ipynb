{
 "cells": [
  {
   "cell_type": "code",
   "execution_count": null,
   "metadata": {},
   "outputs": [],
   "source": []
  },
  {
   "cell_type": "markdown",
   "metadata": {},
   "source": [
    "The report should contain the following:\n",
    "\n",
    "1. **Overview** of the analysis: Explain the purpose of this analysis.\n",
    "\n",
    "2. **Results**: Using bulleted lists and images to support your answers, address the following questions.\n",
    "\n",
    "  * Data Preprocessing\n",
    "    * What variable(s) are the target(s) for your model?\n",
    "    * What variable(s) are the features for your model?\n",
    "    * What variable(s) should be removed from the input data because they are neither targets nor features?\n",
    "  \n",
    "* Compiling, Training, and Evaluating the Model\n",
    "    * How many neurons, layers, and activation functions did you select for your neural network model, and why?\n",
    "    * Were you able to achieve the target model performance?\n",
    "    * What steps did you take in your attempts to increase model performance?\n",
    "\n",
    "3. **Summary**: Summarize the overall results of the deep learning model. Include a recommendation for how a different model could solve this classification problem, and then explain your recommendation.\n"
   ]
  }
 ],
 "metadata": {
  "language_info": {
   "name": "python"
  },
  "orig_nbformat": 4
 },
 "nbformat": 4,
 "nbformat_minor": 2
}
